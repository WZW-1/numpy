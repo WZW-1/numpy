{
 "cells": [
  {
   "cell_type": "markdown",
   "id": "8b9bcffd-085c-4506-9404-7e41a90779c5",
   "metadata": {},
   "source": [
    "# 结巴分词实践"
   ]
  },
  {
   "cell_type": "markdown",
   "id": "6b52a350-69ce-4725-b437-54c041d699ee",
   "metadata": {},
   "source": [
    "## 结巴分词的三种模式"
   ]
  },
  {
   "cell_type": "markdown",
   "id": "234bcc20-7ad9-4324-a2da-b580b3e8e5b6",
   "metadata": {},
   "source": [
    "### 精确模式\n",
    "对句子“我来到北京清华大学”执行精确模式分词"
   ]
  },
  {
   "cell_type": "markdown",
   "id": "316f97c8-ef8a-46c8-b156-32701a73975b",
   "metadata": {},
   "source": [
    "### 全模式\n",
    "对句子“我来到北京清华大学”执行全模式分词"
   ]
  },
  {
   "cell_type": "markdown",
   "id": "f4b21aa8-1cf8-4487-9689-c2d2310f76f8",
   "metadata": {},
   "source": [
    "### 搜索引擎模式\n",
    "对句子“小明硕士毕业于中国科学院计算所，后在日本京都大学深造”执行搜索引擎模式分词。"
   ]
  },
  {
   "cell_type": "code",
   "execution_count": 10,
   "id": "0c8ba0e3-3704-4a13-84e3-386c0ae86e3d",
   "metadata": {},
   "outputs": [
    {
     "name": "stdout",
     "output_type": "stream",
     "text": [
      "精确模式分词结果： 我/ 来到/ 北京/ 清华大学\n",
      "全模式分词结果： 我/ 来到/ 北京/ 清华/ 清华大学/ 华大/ 大学\n",
      "搜索引擎模式分词结果： 小明/ 硕士/ 毕业/ 于/ 中国/ 科学/ 学院/ 科学院/ 中国科学院/ 计算/ 计算所/ ，/ 后/ 在/ 日本/ 京都/ 大学/ 日本京都大学/ 深造\n"
     ]
    }
   ],
   "source": [
    "# 导入结巴分词库  \n",
    "import jieba  \n",
    "\n",
    "# 定义要分词的句子  \n",
    "sentence1 = \"我来到北京清华大学\"  \n",
    "sentence2 = \"小明硕士毕业于中国科学院计算所，后在日本京都大学深造\"  \n",
    "\n",
    "# 精确模式分词  \n",
    "precision_mode = jieba.cut(sentence1, cut_all=False)  \n",
    "# 全模式分词  \n",
    "full_mode = jieba.cut(sentence1, cut_all=True)  \n",
    "# 搜索引擎模式分词  \n",
    "search_engine_mode = jieba.cut_for_search(sentence2)  \n",
    "\n",
    "# 输出结果  \n",
    "precision_result = \"/ \".join(precision_mode)  \n",
    "full_result = \"/ \".join(full_mode)  \n",
    "search_engine_result = \"/ \".join(search_engine_mode)  \n",
    "\n",
    "# 打印结果  \n",
    "print(\"精确模式分词结果：\", precision_result)  \n",
    "print(\"全模式分词结果：\", full_result)  \n",
    "print(\"搜索引擎模式分词结果：\", search_engine_result)  "
   ]
  },
  {
   "cell_type": "code",
   "execution_count": 8,
   "id": "cec65a36-57b9-4543-a5fc-ab78a9cdab2d",
   "metadata": {},
   "outputs": [],
   "source": [
    "# 创建自定义词典文件并写入姓名  \n",
    "with open('userdict.txt', 'w', encoding='utf-8') as f:  \n",
    "    f.write(\"王子文 10 n\\n\")   \n",
    "    f.write(\"帅 10 n\\n\")    "
   ]
  },
  {
   "cell_type": "code",
   "execution_count": 9,
   "id": "0e685d11-f1b3-418c-9ad7-127c39afc6b5",
   "metadata": {},
   "outputs": [
    {
     "name": "stdout",
     "output_type": "stream",
     "text": [
      "王子文/ 即将/ 是/ 自然语言/ 处理/ 方面/ 的/ 高手/ 。\n"
     ]
    }
   ],
   "source": [
    "import jieba  \n",
    "\n",
    "# 加载自定义词典  \n",
    "jieba.load_userdict('userdict.txt')  \n",
    "\n",
    "# 定义句子  \n",
    "name = \"王子文\"   \n",
    "sentence = f\"{name}即将是自然语言处理方面的高手。\"  \n",
    "\n",
    "# 进行分词，设置HMM=False  \n",
    "seg_list = jieba.cut(sentence, HMM=False)  \n",
    "\n",
    "# 输出分词结果  \n",
    "print(\"/ \".join(seg_list))  "
   ]
  },
  {
   "cell_type": "code",
   "execution_count": 11,
   "id": "1274e136-6ece-48cd-82c5-353cf4c5a847",
   "metadata": {},
   "outputs": [
    {
     "name": "stdout",
     "output_type": "stream",
     "text": [
      "提取的关键词: ['河北省人民政府', '一流大学', '燕山大学', '学科建设', '大学']\n"
     ]
    }
   ],
   "source": [
    "import jieba  \n",
    "import jieba.analyse  \n",
    "\n",
    "# 待提取关键词的句子  \n",
    "text = \"燕山大学是河北省人民政府、教育部、工业和信息化部、国家国防科技工业局四方共建的全国重点大学，河北省重点支持的国家一流大学和世界一流学科建设高校，北京高科大学联盟成员。\"  \n",
    "\n",
    "# 使用TextRank提取关键词  \n",
    "keywords = jieba.analyse.extract_tags(text, topK=5)  \n",
    "\n",
    "# 输出结果  \n",
    "print(\"提取的关键词:\", keywords)  "
   ]
  }
 ],
 "metadata": {
  "kernelspec": {
   "display_name": "Python 3 (ipykernel)",
   "language": "python",
   "name": "python3"
  },
  "language_info": {
   "codemirror_mode": {
    "name": "ipython",
    "version": 3
   },
   "file_extension": ".py",
   "mimetype": "text/x-python",
   "name": "python",
   "nbconvert_exporter": "python",
   "pygments_lexer": "ipython3",
   "version": "3.9.21"
  }
 },
 "nbformat": 4,
 "nbformat_minor": 5
}
